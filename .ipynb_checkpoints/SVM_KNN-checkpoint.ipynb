{
 "cells": [
  {
   "cell_type": "markdown",
   "metadata": {
    "id": "ZAoq8_KodLMe"
   },
   "source": [
    "##Notebook created by: Austin Copley (acopley@umass.edu) and Abdul Aziz (abdulaziz@umass.edu) for COMPSCI 528: Ubiquitous and Mobile Computing (Fall 2024)"
   ]
  },
  {
   "cell_type": "code",
   "execution_count": 1,
   "metadata": {
    "id": "kYdzi_jZK5YQ"
   },
   "outputs": [],
   "source": [
    "import os\n",
    "import numpy as np\n",
    "import pandas as pd\n",
    "import seaborn as sns\n",
    "from sklearn.svm import SVC\n",
    "import matplotlib.pyplot as plt\n",
    "from sklearn.preprocessing import StandardScaler\n",
    "from sklearn.neighbors import KNeighborsClassifier\n",
    "from sklearn.metrics import classification_report, accuracy_score, confusion_matrix\n",
    "from glob import glob\n",
    "import random\n",
    "import joblib"
   ]
  },
  {
   "cell_type": "code",
   "execution_count": 2,
   "metadata": {},
   "outputs": [],
   "source": [
    "classes = [\"UP\",\"DOWN\",\"LEFT\",\"RIGHT\",\"ANTICLOCKWISE\",\"CLOCKWISE\"]\n",
    "train_files = []\n",
    "val_files = []\n",
    "test_files = []\n",
    "\n",
    "for i in range(len(classes)):\n",
    "    files = glob(f\"Data/{classes[i]}_*\")\n",
    "    #random.shuffle(files)\n",
    "    train_files.extend(files[:15])\n",
    "    val_files.extend(files[15:17])\n",
    "    test_files.extend(files[17:])\n",
    "    \n"
   ]
  },
  {
   "cell_type": "code",
   "execution_count": 3,
   "metadata": {},
   "outputs": [
    {
     "data": {
      "text/plain": [
       "(90, 12, 18)"
      ]
     },
     "execution_count": 3,
     "metadata": {},
     "output_type": "execute_result"
    }
   ],
   "source": [
    "len(train_files),len(val_files),len(test_files)"
   ]
  },
  {
   "cell_type": "code",
   "execution_count": 4,
   "metadata": {},
   "outputs": [],
   "source": [
    "new_classes = [\"up_data\",\"Down_data\",\"Left_data\",\"Right_data\",\"clockwise\",\"anticlockwise\"]\n",
    "for i in range(len(new_classes)):\n",
    "    files = glob(f\"Data/data_files/{new_classes[i]}/*\")\n",
    "    random.shuffle(files)\n",
    "    train_files.extend(files[:15])\n",
    "    val_files.extend(files[15:17])\n",
    "    test_files.extend(files[17:])"
   ]
  },
  {
   "cell_type": "code",
   "execution_count": 5,
   "metadata": {},
   "outputs": [
    {
     "data": {
      "text/plain": [
       "(180, 24, 42)"
      ]
     },
     "execution_count": 5,
     "metadata": {},
     "output_type": "execute_result"
    }
   ],
   "source": [
    "len(train_files),len(val_files),len(test_files)"
   ]
  },
  {
   "cell_type": "code",
   "execution_count": 6,
   "metadata": {},
   "outputs": [
    {
     "data": {
      "text/plain": [
       "['Data\\\\UP_gesture_data_1.csv',\n",
       " 'Data\\\\UP_gesture_data_10.csv',\n",
       " 'Data\\\\UP_gesture_data_11.csv',\n",
       " 'Data\\\\UP_gesture_data_12.csv',\n",
       " 'Data\\\\UP_gesture_data_13.csv',\n",
       " 'Data\\\\UP_gesture_data_14.csv',\n",
       " 'Data\\\\UP_gesture_data_15.csv',\n",
       " 'Data\\\\UP_gesture_data_16.csv',\n",
       " 'Data\\\\UP_gesture_data_17.csv',\n",
       " 'Data\\\\UP_gesture_data_18.csv',\n",
       " 'Data\\\\UP_gesture_data_19.csv',\n",
       " 'Data\\\\UP_gesture_data_2.csv',\n",
       " 'Data\\\\UP_gesture_data_20.csv',\n",
       " 'Data\\\\UP_gesture_data_3.csv',\n",
       " 'Data\\\\UP_gesture_data_4.csv',\n",
       " 'Data\\\\DOWN_gesture_data_1.csv',\n",
       " 'Data\\\\DOWN_gesture_data_10.csv',\n",
       " 'Data\\\\DOWN_gesture_data_11.csv',\n",
       " 'Data\\\\DOWN_gesture_data_12.csv',\n",
       " 'Data\\\\DOWN_gesture_data_13.csv',\n",
       " 'Data\\\\DOWN_gesture_data_14.csv',\n",
       " 'Data\\\\DOWN_gesture_data_15.csv',\n",
       " 'Data\\\\DOWN_gesture_data_16.csv',\n",
       " 'Data\\\\DOWN_gesture_data_17.csv',\n",
       " 'Data\\\\DOWN_gesture_data_18.csv',\n",
       " 'Data\\\\DOWN_gesture_data_19.csv',\n",
       " 'Data\\\\DOWN_gesture_data_2.csv',\n",
       " 'Data\\\\DOWN_gesture_data_20.csv',\n",
       " 'Data\\\\DOWN_gesture_data_3.csv',\n",
       " 'Data\\\\DOWN_gesture_data_4.csv',\n",
       " 'Data\\\\LEFT_gesture_data_1.csv',\n",
       " 'Data\\\\LEFT_gesture_data_10.csv',\n",
       " 'Data\\\\LEFT_gesture_data_11.csv',\n",
       " 'Data\\\\LEFT_gesture_data_12.csv',\n",
       " 'Data\\\\LEFT_gesture_data_13.csv',\n",
       " 'Data\\\\LEFT_gesture_data_14.csv',\n",
       " 'Data\\\\LEFT_gesture_data_15.csv',\n",
       " 'Data\\\\LEFT_gesture_data_16.csv',\n",
       " 'Data\\\\LEFT_gesture_data_17.csv',\n",
       " 'Data\\\\LEFT_gesture_data_18.csv',\n",
       " 'Data\\\\LEFT_gesture_data_19.csv',\n",
       " 'Data\\\\LEFT_gesture_data_2.csv',\n",
       " 'Data\\\\LEFT_gesture_data_20.csv',\n",
       " 'Data\\\\LEFT_gesture_data_3.csv',\n",
       " 'Data\\\\LEFT_gesture_data_4.csv',\n",
       " 'Data\\\\RIGHT_gesture_data_1.csv',\n",
       " 'Data\\\\RIGHT_gesture_data_10.csv',\n",
       " 'Data\\\\RIGHT_gesture_data_11.csv',\n",
       " 'Data\\\\RIGHT_gesture_data_12.csv',\n",
       " 'Data\\\\RIGHT_gesture_data_13.csv',\n",
       " 'Data\\\\RIGHT_gesture_data_14.csv',\n",
       " 'Data\\\\RIGHT_gesture_data_15.csv',\n",
       " 'Data\\\\RIGHT_gesture_data_16.csv',\n",
       " 'Data\\\\RIGHT_gesture_data_17.csv',\n",
       " 'Data\\\\RIGHT_gesture_data_18.csv',\n",
       " 'Data\\\\RIGHT_gesture_data_19.csv',\n",
       " 'Data\\\\RIGHT_gesture_data_2.csv',\n",
       " 'Data\\\\RIGHT_gesture_data_20.csv',\n",
       " 'Data\\\\RIGHT_gesture_data_3.csv',\n",
       " 'Data\\\\RIGHT_gesture_data_4.csv',\n",
       " 'Data\\\\ANTICLOCKWISE_gesture_data_1.csv',\n",
       " 'Data\\\\ANTICLOCKWISE_gesture_data_10.csv',\n",
       " 'Data\\\\ANTICLOCKWISE_gesture_data_11.csv',\n",
       " 'Data\\\\ANTICLOCKWISE_gesture_data_12.csv',\n",
       " 'Data\\\\ANTICLOCKWISE_gesture_data_13.csv',\n",
       " 'Data\\\\ANTICLOCKWISE_gesture_data_14.csv',\n",
       " 'Data\\\\ANTICLOCKWISE_gesture_data_15.csv',\n",
       " 'Data\\\\ANTICLOCKWISE_gesture_data_16.csv',\n",
       " 'Data\\\\ANTICLOCKWISE_gesture_data_17.csv',\n",
       " 'Data\\\\ANTICLOCKWISE_gesture_data_18.csv',\n",
       " 'Data\\\\ANTICLOCKWISE_gesture_data_19.csv',\n",
       " 'Data\\\\ANTICLOCKWISE_gesture_data_2.csv',\n",
       " 'Data\\\\ANTICLOCKWISE_gesture_data_20.csv',\n",
       " 'Data\\\\ANTICLOCKWISE_gesture_data_3.csv',\n",
       " 'Data\\\\ANTICLOCKWISE_gesture_data_4.csv',\n",
       " 'Data\\\\CLOCKWISE_gesture_data_1.csv',\n",
       " 'Data\\\\CLOCKWISE_gesture_data_10.csv',\n",
       " 'Data\\\\CLOCKWISE_gesture_data_11.csv',\n",
       " 'Data\\\\CLOCKWISE_gesture_data_12.csv',\n",
       " 'Data\\\\CLOCKWISE_gesture_data_13.csv',\n",
       " 'Data\\\\CLOCKWISE_gesture_data_14.csv',\n",
       " 'Data\\\\CLOCKWISE_gesture_data_15.csv',\n",
       " 'Data\\\\CLOCKWISE_gesture_data_16.csv',\n",
       " 'Data\\\\CLOCKWISE_gesture_data_17.csv',\n",
       " 'Data\\\\CLOCKWISE_gesture_data_18.csv',\n",
       " 'Data\\\\CLOCKWISE_gesture_data_19.csv',\n",
       " 'Data\\\\CLOCKWISE_gesture_data_2.csv',\n",
       " 'Data\\\\CLOCKWISE_gesture_data_20.csv',\n",
       " 'Data\\\\CLOCKWISE_gesture_data_3.csv',\n",
       " 'Data\\\\CLOCKWISE_gesture_data_4.csv',\n",
       " 'Data/data_files/up_data\\\\up_13.txt',\n",
       " 'Data/data_files/up_data\\\\up_00.txt',\n",
       " 'Data/data_files/up_data\\\\up_03.txt',\n",
       " 'Data/data_files/up_data\\\\up_08.txt',\n",
       " 'Data/data_files/up_data\\\\up_10.txt',\n",
       " 'Data/data_files/up_data\\\\up_20.txt',\n",
       " 'Data/data_files/up_data\\\\up_17.txt',\n",
       " 'Data/data_files/up_data\\\\up_12.txt',\n",
       " 'Data/data_files/up_data\\\\up_01.txt',\n",
       " 'Data/data_files/up_data\\\\up_16.txt',\n",
       " 'Data/data_files/up_data\\\\up_11.txt',\n",
       " 'Data/data_files/up_data\\\\up_07.txt',\n",
       " 'Data/data_files/up_data\\\\up_06.txt',\n",
       " 'Data/data_files/up_data\\\\up_19.txt',\n",
       " 'Data/data_files/up_data\\\\up_09.txt',\n",
       " 'Data/data_files/Down_data\\\\down_17.txt',\n",
       " 'Data/data_files/Down_data\\\\down_01.txt',\n",
       " 'Data/data_files/Down_data\\\\down_20.txt',\n",
       " 'Data/data_files/Down_data\\\\down_08.txt',\n",
       " 'Data/data_files/Down_data\\\\down_05.txt',\n",
       " 'Data/data_files/Down_data\\\\down_19.txt',\n",
       " 'Data/data_files/Down_data\\\\down_14.txt',\n",
       " 'Data/data_files/Down_data\\\\down_13.txt',\n",
       " 'Data/data_files/Down_data\\\\down_03.txt',\n",
       " 'Data/data_files/Down_data\\\\down_15.txt',\n",
       " 'Data/data_files/Down_data\\\\down_07.txt',\n",
       " 'Data/data_files/Down_data\\\\down_06.txt',\n",
       " 'Data/data_files/Down_data\\\\down_04.txt',\n",
       " 'Data/data_files/Down_data\\\\down_02.txt',\n",
       " 'Data/data_files/Down_data\\\\down_11.txt',\n",
       " 'Data/data_files/Left_data\\\\left_01.txt',\n",
       " 'Data/data_files/Left_data\\\\left_16.txt',\n",
       " 'Data/data_files/Left_data\\\\left_14.txt',\n",
       " 'Data/data_files/Left_data\\\\left_13.txt',\n",
       " 'Data/data_files/Left_data\\\\left_15.txt',\n",
       " 'Data/data_files/Left_data\\\\left_19.txt',\n",
       " 'Data/data_files/Left_data\\\\left_17.txt',\n",
       " 'Data/data_files/Left_data\\\\Left_08.txt',\n",
       " 'Data/data_files/Left_data\\\\left_12.txt',\n",
       " 'Data/data_files/Left_data\\\\left_02.txt',\n",
       " 'Data/data_files/Left_data\\\\left_05.txt',\n",
       " 'Data/data_files/Left_data\\\\left_07.txt',\n",
       " 'Data/data_files/Left_data\\\\left_03.txt',\n",
       " 'Data/data_files/Left_data\\\\left_20.txt',\n",
       " 'Data/data_files/Left_data\\\\left_00.txt',\n",
       " 'Data/data_files/Right_data\\\\right_15.txt',\n",
       " 'Data/data_files/Right_data\\\\right_06.txt',\n",
       " 'Data/data_files/Right_data\\\\right_08.txt',\n",
       " 'Data/data_files/Right_data\\\\right_09.txt',\n",
       " 'Data/data_files/Right_data\\\\right_02.txt',\n",
       " 'Data/data_files/Right_data\\\\right_00.txt',\n",
       " 'Data/data_files/Right_data\\\\right_01.txt',\n",
       " 'Data/data_files/Right_data\\\\right_03.txt',\n",
       " 'Data/data_files/Right_data\\\\right_16.txt',\n",
       " 'Data/data_files/Right_data\\\\right_04.txt',\n",
       " 'Data/data_files/Right_data\\\\right_18.txt',\n",
       " 'Data/data_files/Right_data\\\\right_11.txt',\n",
       " 'Data/data_files/Right_data\\\\right_12.txt',\n",
       " 'Data/data_files/Right_data\\\\right_17.txt',\n",
       " 'Data/data_files/Right_data\\\\right_20.txt',\n",
       " 'Data/data_files/clockwise\\\\clockwise_06.txt',\n",
       " 'Data/data_files/clockwise\\\\clockwise_12.txt',\n",
       " 'Data/data_files/clockwise\\\\clockwise_13.txt',\n",
       " 'Data/data_files/clockwise\\\\clockwise_08.txt',\n",
       " 'Data/data_files/clockwise\\\\clockwise_10.txt',\n",
       " 'Data/data_files/clockwise\\\\clockwise_20.txt',\n",
       " 'Data/data_files/clockwise\\\\clockwise_16.txt',\n",
       " 'Data/data_files/clockwise\\\\clockwise_04.txt',\n",
       " 'Data/data_files/clockwise\\\\clockwise_01.txt',\n",
       " 'Data/data_files/clockwise\\\\clockwise_18.txt',\n",
       " 'Data/data_files/clockwise\\\\clockwise_07.txt',\n",
       " 'Data/data_files/clockwise\\\\clockwise_14.txt',\n",
       " 'Data/data_files/clockwise\\\\clockwise_17.txt',\n",
       " 'Data/data_files/clockwise\\\\clockwise_02.txt',\n",
       " 'Data/data_files/clockwise\\\\clockwise_03.txt',\n",
       " 'Data/data_files/anticlockwise\\\\anticlockwise_13.txt',\n",
       " 'Data/data_files/anticlockwise\\\\anticlockwise_11.txt',\n",
       " 'Data/data_files/anticlockwise\\\\anticlockwise_07.txt',\n",
       " 'Data/data_files/anticlockwise\\\\anticlockwise_20.txt',\n",
       " 'Data/data_files/anticlockwise\\\\anticlockwise_04.txt',\n",
       " 'Data/data_files/anticlockwise\\\\anticlockwise_16.txt',\n",
       " 'Data/data_files/anticlockwise\\\\anticlockwise_03.txt',\n",
       " 'Data/data_files/anticlockwise\\\\anticlockwise_06.txt',\n",
       " 'Data/data_files/anticlockwise\\\\anticlockwise_00.txt',\n",
       " 'Data/data_files/anticlockwise\\\\anticlockwise_19.txt',\n",
       " 'Data/data_files/anticlockwise\\\\anticlockwise_08.txt',\n",
       " 'Data/data_files/anticlockwise\\\\anticlockwise_02.txt',\n",
       " 'Data/data_files/anticlockwise\\\\anticlockwise_05.txt',\n",
       " 'Data/data_files/anticlockwise\\\\anticlockwise_14.txt',\n",
       " 'Data/data_files/anticlockwise\\\\anticlockwise_01.txt']"
      ]
     },
     "execution_count": 6,
     "metadata": {},
     "output_type": "execute_result"
    }
   ],
   "source": [
    "train_files"
   ]
  },
  {
   "cell_type": "code",
   "execution_count": 7,
   "metadata": {},
   "outputs": [],
   "source": [
    "def load_data(files,fixed_length):\n",
    "    features,labels = [],[]\n",
    "    csv = True\n",
    "    for file in files:\n",
    "        if \".csv\" in file:\n",
    "            label = file.split(\"_\")[0].split(\"\\\\\")[1]\n",
    "            df = pd.read_csv(file)\n",
    "        else:\n",
    "            print(file)\n",
    "            csv = False\n",
    "            label = file.split(\"/\")[2].split(\"\\\\\")[0]\n",
    "            with open(file, 'r') as file:\n",
    "                lines = file.readlines()\n",
    "            \n",
    "            # Split lines into header and data\n",
    "            header = lines[0].strip().split(\"\\t\")  # Assuming tab-separated values\n",
    "            header = [head.strip() for head in header]\n",
    "            data = [line.strip().split(\"\\t\") for line in lines[1:]]  # Skip header row\n",
    "\n",
    "            # Convert data to a pandas DataFrame\n",
    "            df = pd.DataFrame(data, columns=header)\n",
    "\n",
    "        df[['gyro_x', 'gyro_y', 'gyro_z', 'acce_x', 'acce_y', 'acce_z']] = df[\n",
    "            ['gyro_x', 'gyro_y', 'gyro_z', 'acce_x', 'acce_y', 'acce_z']\n",
    "        ].apply(pd.to_numeric, errors='coerce')\n",
    "        \n",
    "        # Drop rows with any NaN values in the specified columns\n",
    "        df = df.dropna(subset=['gyro_x', 'gyro_y', 'gyro_z', 'acce_x', 'acce_y', 'acce_z'])\n",
    "\n",
    "        # Convert to numpy and normalize if there are any valid rows left\n",
    "        if not df.empty:\n",
    "            data = df[['gyro_x', 'gyro_y', 'gyro_z', 'acce_x', 'acce_y', 'acce_z']].values.astype(np.float32)\n",
    "            data = (data - data.min(axis=0)) / (data.max(axis=0) - data.min(axis=0))  # Normalize data\n",
    "            \n",
    "            if len(data) > fixed_length:\n",
    "                data = data[:fixed_length]  # truncate if longer than fixed length\n",
    "            elif len(data) < fixed_length:\n",
    "                padding = np.zeros((fixed_length - len(data), data.shape[1]), dtype=np.float32)\n",
    "                data = np.vstack((data, padding)) \n",
    "                \n",
    "            features.append(data.flatten())\n",
    "            if(csv):\n",
    "                labels.append(classes.index(label))\n",
    "            else:\n",
    "                labels.append(new_classes.index(label))\n",
    "        \n",
    "    return np.array(features), np.array(labels)"
   ]
  },
  {
   "cell_type": "code",
   "execution_count": 8,
   "metadata": {},
   "outputs": [
    {
     "name": "stdout",
     "output_type": "stream",
     "text": [
      "Data/data_files/up_data\\up_13.txt\n",
      "Data/data_files/up_data\\up_00.txt\n",
      "Data/data_files/up_data\\up_03.txt\n",
      "Data/data_files/up_data\\up_08.txt\n",
      "Data/data_files/up_data\\up_10.txt\n",
      "Data/data_files/up_data\\up_20.txt\n",
      "Data/data_files/up_data\\up_17.txt\n",
      "Data/data_files/up_data\\up_12.txt\n",
      "Data/data_files/up_data\\up_01.txt\n",
      "Data/data_files/up_data\\up_16.txt\n",
      "Data/data_files/up_data\\up_11.txt\n",
      "Data/data_files/up_data\\up_07.txt\n",
      "Data/data_files/up_data\\up_06.txt\n",
      "Data/data_files/up_data\\up_19.txt\n",
      "Data/data_files/up_data\\up_09.txt\n",
      "Data/data_files/Down_data\\down_17.txt\n",
      "Data/data_files/Down_data\\down_01.txt\n",
      "Data/data_files/Down_data\\down_20.txt\n",
      "Data/data_files/Down_data\\down_08.txt\n",
      "Data/data_files/Down_data\\down_05.txt\n",
      "Data/data_files/Down_data\\down_19.txt\n",
      "Data/data_files/Down_data\\down_14.txt\n",
      "Data/data_files/Down_data\\down_13.txt\n",
      "Data/data_files/Down_data\\down_03.txt\n",
      "Data/data_files/Down_data\\down_15.txt\n",
      "Data/data_files/Down_data\\down_07.txt\n",
      "Data/data_files/Down_data\\down_06.txt\n",
      "Data/data_files/Down_data\\down_04.txt\n",
      "Data/data_files/Down_data\\down_02.txt\n",
      "Data/data_files/Down_data\\down_11.txt\n",
      "Data/data_files/Left_data\\left_01.txt\n",
      "Data/data_files/Left_data\\left_16.txt\n",
      "Data/data_files/Left_data\\left_14.txt\n",
      "Data/data_files/Left_data\\left_13.txt\n",
      "Data/data_files/Left_data\\left_15.txt\n",
      "Data/data_files/Left_data\\left_19.txt\n",
      "Data/data_files/Left_data\\left_17.txt\n",
      "Data/data_files/Left_data\\Left_08.txt\n",
      "Data/data_files/Left_data\\left_12.txt\n",
      "Data/data_files/Left_data\\left_02.txt\n",
      "Data/data_files/Left_data\\left_05.txt\n",
      "Data/data_files/Left_data\\left_07.txt\n",
      "Data/data_files/Left_data\\left_03.txt\n",
      "Data/data_files/Left_data\\left_20.txt\n",
      "Data/data_files/Left_data\\left_00.txt\n",
      "Data/data_files/Right_data\\right_15.txt\n",
      "Data/data_files/Right_data\\right_06.txt\n",
      "Data/data_files/Right_data\\right_08.txt\n",
      "Data/data_files/Right_data\\right_09.txt\n",
      "Data/data_files/Right_data\\right_02.txt\n",
      "Data/data_files/Right_data\\right_00.txt\n",
      "Data/data_files/Right_data\\right_01.txt\n",
      "Data/data_files/Right_data\\right_03.txt\n",
      "Data/data_files/Right_data\\right_16.txt\n",
      "Data/data_files/Right_data\\right_04.txt\n",
      "Data/data_files/Right_data\\right_18.txt\n",
      "Data/data_files/Right_data\\right_11.txt\n",
      "Data/data_files/Right_data\\right_12.txt\n",
      "Data/data_files/Right_data\\right_17.txt\n",
      "Data/data_files/Right_data\\right_20.txt\n",
      "Data/data_files/clockwise\\clockwise_06.txt\n",
      "Data/data_files/clockwise\\clockwise_12.txt\n",
      "Data/data_files/clockwise\\clockwise_13.txt\n",
      "Data/data_files/clockwise\\clockwise_08.txt\n",
      "Data/data_files/clockwise\\clockwise_10.txt\n",
      "Data/data_files/clockwise\\clockwise_20.txt\n",
      "Data/data_files/clockwise\\clockwise_16.txt\n",
      "Data/data_files/clockwise\\clockwise_04.txt\n",
      "Data/data_files/clockwise\\clockwise_01.txt\n",
      "Data/data_files/clockwise\\clockwise_18.txt\n",
      "Data/data_files/clockwise\\clockwise_07.txt\n",
      "Data/data_files/clockwise\\clockwise_14.txt\n",
      "Data/data_files/clockwise\\clockwise_17.txt\n",
      "Data/data_files/clockwise\\clockwise_02.txt\n",
      "Data/data_files/clockwise\\clockwise_03.txt\n",
      "Data/data_files/anticlockwise\\anticlockwise_13.txt\n",
      "Data/data_files/anticlockwise\\anticlockwise_11.txt\n",
      "Data/data_files/anticlockwise\\anticlockwise_07.txt\n",
      "Data/data_files/anticlockwise\\anticlockwise_20.txt\n",
      "Data/data_files/anticlockwise\\anticlockwise_04.txt\n",
      "Data/data_files/anticlockwise\\anticlockwise_16.txt\n",
      "Data/data_files/anticlockwise\\anticlockwise_03.txt\n",
      "Data/data_files/anticlockwise\\anticlockwise_06.txt\n",
      "Data/data_files/anticlockwise\\anticlockwise_00.txt\n",
      "Data/data_files/anticlockwise\\anticlockwise_19.txt\n",
      "Data/data_files/anticlockwise\\anticlockwise_08.txt\n",
      "Data/data_files/anticlockwise\\anticlockwise_02.txt\n",
      "Data/data_files/anticlockwise\\anticlockwise_05.txt\n",
      "Data/data_files/anticlockwise\\anticlockwise_14.txt\n",
      "Data/data_files/anticlockwise\\anticlockwise_01.txt\n",
      "Data/data_files/up_data\\up_04.txt\n",
      "Data/data_files/up_data\\up_14.txt\n",
      "Data/data_files/Down_data\\down_09.txt\n",
      "Data/data_files/Down_data\\down_12.txt\n",
      "Data/data_files/Left_data\\left_10.txt\n",
      "Data/data_files/Left_data\\left_09.txt\n",
      "Data/data_files/Right_data\\right_05.txt\n",
      "Data/data_files/Right_data\\right_19.txt\n",
      "Data/data_files/clockwise\\clockwise_09.txt\n",
      "Data/data_files/clockwise\\clockwise_15.txt\n",
      "Data/data_files/anticlockwise\\anticlockwise_10.txt\n",
      "Data/data_files/anticlockwise\\anticlockwise_18.txt\n",
      "Data/data_files/up_data\\up_18.txt\n",
      "Data/data_files/up_data\\up_02.txt\n",
      "Data/data_files/up_data\\up_15.txt\n",
      "Data/data_files/up_data\\up_05.txt\n",
      "Data/data_files/Down_data\\down_00.txt\n",
      "Data/data_files/Down_data\\down_18.txt\n",
      "Data/data_files/Down_data\\down_10.txt\n",
      "Data/data_files/Down_data\\down_16.txt\n",
      "Data/data_files/Left_data\\left_04.txt\n",
      "Data/data_files/Left_data\\left_18.txt\n",
      "Data/data_files/Left_data\\left_06.txt\n",
      "Data/data_files/Left_data\\left_11.txt\n",
      "Data/data_files/Right_data\\right_10.txt\n",
      "Data/data_files/Right_data\\right_14.txt\n",
      "Data/data_files/Right_data\\right_07.txt\n",
      "Data/data_files/Right_data\\right_13.txt\n",
      "Data/data_files/clockwise\\clockwise_11.txt\n",
      "Data/data_files/clockwise\\clockwise_00.txt\n",
      "Data/data_files/clockwise\\clockwise_05.txt\n",
      "Data/data_files/clockwise\\clockwise_19.txt\n",
      "Data/data_files/anticlockwise\\anticlockwise_09.txt\n",
      "Data/data_files/anticlockwise\\anticlockwise_12.txt\n",
      "Data/data_files/anticlockwise\\anticlockwise_15.txt\n",
      "Data/data_files/anticlockwise\\anticlockwise_17.txt\n"
     ]
    }
   ],
   "source": [
    "X_train, y_train = load_data(train_files,400)\n",
    "X_val, y_val = load_data(val_files,400)\n",
    "X_test, y_test = load_data(test_files,400)"
   ]
  },
  {
   "cell_type": "code",
   "execution_count": 9,
   "metadata": {},
   "outputs": [
    {
     "data": {
      "text/plain": [
       "((180, 2400), (180,), (24, 2400), (24,), (42, 2400), (42,))"
      ]
     },
     "execution_count": 9,
     "metadata": {},
     "output_type": "execute_result"
    }
   ],
   "source": [
    "X_train.shape,y_train.shape,X_val.shape,y_val.shape,X_test.shape,y_test.shape"
   ]
  },
  {
   "cell_type": "code",
   "execution_count": 10,
   "metadata": {},
   "outputs": [],
   "source": [
    "def train_and_evaluate_svm(X_train, y_train, X_val, y_val,X_test, y_test):\n",
    "    # Create the SVM classifier\n",
    "    svm_classifier = SVC(kernel='rbf')\n",
    "\n",
    "    # Train the classifier\n",
    "    svm_classifier.fit(X_train, y_train)\n",
    "    joblib.dump(svm_classifier, \"Trained_model/svm_model.pkl\")\n",
    "\n",
    "    # Perform prediction on the test set\n",
    "    y_val_pred = svm_classifier.predict(X_val)\n",
    "    \n",
    "\n",
    "    # Evaluate the model\n",
    "    accuracy = accuracy_score(y_val, y_val_pred)\n",
    "    print(f'SVM validation accuracy: {accuracy:.3%}')\n",
    "    \n",
    "    y_test_pred = svm_classifier.predict(X_test)\n",
    "    \n",
    "\n",
    "    # Evaluate the model\n",
    "    accuracy = accuracy_score(y_test, y_test_pred)\n",
    "    print(f'SVM testing accuracy: {accuracy:.3%}')\n",
    "\n",
    "    # Plot the confusion matrix\n",
    "    conf_matrix_val = confusion_matrix(y_val, y_val_pred)\n",
    "    plt.figure(figsize=(8, 6))\n",
    "    sns.heatmap(conf_matrix_val, annot=True, cmap=\"Blues\", fmt='g')\n",
    "    plt.title('Validation Set Confusion Matrix')\n",
    "    plt.xlabel('Predicted')\n",
    "    plt.ylabel('Actual')\n",
    "    plt.show()\n",
    "\n",
    "    # Testing set heatmap\n",
    "    conf_matrix_test = confusion_matrix(y_test, y_test_pred)\n",
    "    plt.figure(figsize=(8, 6))\n",
    "    sns.heatmap(conf_matrix_test, annot=True, cmap=\"Blues\", fmt='g')\n",
    "    plt.title('Testing Set Confusion Matrix')\n",
    "    plt.xlabel('Predicted')\n",
    "    plt.ylabel('Actual')\n",
    "    plt.show()"
   ]
  },
  {
   "cell_type": "code",
   "execution_count": 11,
   "metadata": {},
   "outputs": [
    {
     "name": "stdout",
     "output_type": "stream",
     "text": [
      "SVM validation accuracy: 95.833%\n",
      "SVM testing accuracy: 95.238%\n"
     ]
    },
    {
     "data": {
      "image/png": "[encoded data removed]",
      "text/plain": [
       "<Figure size 800x600 with 2 Axes>"
      ]
     },
     "metadata": {},
     "output_type": "display_data"
    },
    {
     "data": {
      "image/png": "[encoded data removed]",
      "text/plain": [
       "<Figure size 800x600 with 2 Axes>"
      ]
     },
     "metadata": {},
     "output_type": "display_data"
    }
   ],
   "source": [
    "train_and_evaluate_svm(X_train, y_train, X_val, y_val,X_test, y_test)"
   ]
  },
  {
   "cell_type": "code",
   "execution_count": 12,
   "metadata": {},
   "outputs": [],
   "source": [
    "def train_and_evaluate_knn(X_train, y_train, X_val, y_val,X_test, y_test, n_neighbors=3):\n",
    "    # Create the SVM classifier\n",
    "    knn_classifier = KNeighborsClassifier(n_neighbors=n_neighbors)\n",
    "\n",
    "    # Train the classifier\n",
    "    knn_classifier.fit(X_train, y_train)\n",
    "    joblib.dump(knn_classifier, \"Trained_model/knn_model.pkl\")\n",
    "    # Perform prediction on the test set\n",
    "    y_val_pred = knn_classifier.predict(X_val)\n",
    "\n",
    "    # Evaluate the model\n",
    "    accuracy = accuracy_score(y_val, y_val_pred)\n",
    "    print(f'KNN validation accuracy: {accuracy:.3%}')\n",
    "    \n",
    "    y_test_pred = knn_classifier.predict(X_test)\n",
    "\n",
    "    # Evaluate the model\n",
    "    accuracy = accuracy_score(y_test, y_test_pred)\n",
    "    print(f'KNN testing accuracy: {accuracy:.3%}')\n",
    "\n",
    "    # Plot the confusion matrix\n",
    "    conf_matrix_val = confusion_matrix(y_val, y_val_pred)\n",
    "    plt.figure(figsize=(8, 6))\n",
    "    sns.heatmap(conf_matrix_val, annot=True, cmap=\"Blues\", fmt='g')\n",
    "    plt.title('Validation Set Confusion Matrix')\n",
    "    plt.xlabel('Predicted')\n",
    "    plt.ylabel('Actual')\n",
    "    plt.show()\n",
    "\n",
    "    # Testing set heatmap\n",
    "    conf_matrix_test = confusion_matrix(y_test, y_test_pred)\n",
    "    plt.figure(figsize=(8, 6))\n",
    "    sns.heatmap(conf_matrix_test, annot=True, cmap=\"Blues\", fmt='g')\n",
    "    plt.title('Testing Set Confusion Matrix')\n",
    "    plt.xlabel('Predicted')\n",
    "    plt.ylabel('Actual')\n",
    "    plt.show()"
   ]
  },
  {
   "cell_type": "code",
   "execution_count": 13,
   "metadata": {},
   "outputs": [
    {
     "name": "stdout",
     "output_type": "stream",
     "text": [
      "KNN validation accuracy: 91.667%\n",
      "KNN testing accuracy: 88.095%\n"
     ]
    },
    {
     "data": {
      "image/png": "[encoded data removed]",
      "text/plain": [
       "<Figure size 800x600 with 2 Axes>"
      ]
     },
     "metadata": {},
     "output_type": "display_data"
    },
    {
     "data": {
      "image/png": "[encoded data removed]",
      "text/plain": [
       "<Figure size 800x600 with 2 Axes>"
      ]
     },
     "metadata": {},
     "output_type": "display_data"
    }
   ],
   "source": [
    "train_and_evaluate_knn(X_train, y_train, X_val, y_val,X_test, y_test)"
   ]
  }
 ],
 "metadata": {
  "colab": {
   "provenance": []
  },
  "kernelspec": {
   "display_name": "Python 3 (ipykernel)",
   "language": "python",
   "name": "python3"
  },
  "language_info": {
   "codemirror_mode": {
    "name": "ipython",
    "version": 3
   },
   "file_extension": ".py",
   "mimetype": "text/x-python",
   "name": "python",
   "nbconvert_exporter": "python",
   "pygments_lexer": "ipython3",
   "version": "3.11.5"
  }
 },
 "nbformat": 4,
 "nbformat_minor": 1
}
